{
 "cells": [
  {
   "cell_type": "code",
   "execution_count": 1,
   "metadata": {},
   "outputs": [],
   "source": [
    "import numpy as np\n",
    "import pandas as pd\n",
    "\n",
    "import tensorflow as tf\n",
    "from tensorflow import keras\n",
    "from keras.layers import Dense, Flatten, Conv2D, Dropout, MaxPooling2D, BatchNormalization\n",
    "from keras.models import Sequential, load_model, save_model\n",
    "\n",
    "from sklearn.model_selection import train_test_split\n",
    "from sklearn.metrics import classification_report\n",
    "\n",
    "import seaborn as sns\n",
    "import matplotlib.pyplot as plt\n",
    "%matplotlib widget\n",
    "\n",
    "from keras.utils.vis_utils import model_to_dot, plot_model"
   ]
  },
  {
   "cell_type": "code",
   "execution_count": 3,
   "metadata": {},
   "outputs": [
    {
     "ename": "FileNotFoundError",
     "evalue": "[WinError 3] The system cannot find the path specified: '../input/'",
     "output_type": "error",
     "traceback": [
      "\u001b[1;31m---------------------------------------------------------------------------\u001b[0m",
      "\u001b[1;31mFileNotFoundError\u001b[0m                         Traceback (most recent call last)",
      "\u001b[1;32mc:\\Users\\vasus\\Desktop\\ANN\\Kuzushiji-MNIST Classification\\CNN with Batch Normalization.ipynb Cell 2'\u001b[0m in \u001b[0;36m<module>\u001b[1;34m\u001b[0m\n\u001b[0;32m     <a href='vscode-notebook-cell:/c%3A/Users/vasus/Desktop/ANN/Kuzushiji-MNIST%20Classification/CNN%20with%20Batch%20Normalization.ipynb#ch0000002?line=15'>16</a>\u001b[0m \u001b[39melse\u001b[39;00m:\n\u001b[0;32m     <a href='vscode-notebook-cell:/c%3A/Users/vasus/Desktop/ANN/Kuzushiji-MNIST%20Classification/CNN%20with%20Batch%20Normalization.ipynb#ch0000002?line=16'>17</a>\u001b[0m     PATH\u001b[39m=\u001b[39m\u001b[39m\"\u001b[39m\u001b[39m../input/\u001b[39m\u001b[39m\"\u001b[39m\n\u001b[1;32m---> <a href='vscode-notebook-cell:/c%3A/Users/vasus/Desktop/ANN/Kuzushiji-MNIST%20Classification/CNN%20with%20Batch%20Normalization.ipynb#ch0000002?line=17'>18</a>\u001b[0m \u001b[39mprint\u001b[39m(os\u001b[39m.\u001b[39;49mlistdir(PATH))\n",
      "\u001b[1;31mFileNotFoundError\u001b[0m: [WinError 3] The system cannot find the path specified: '../input/'"
     ]
    }
   ],
   "source": [
    "IMG_ROWS = 28\n",
    "IMG_COLS = 28\n",
    "NUM_CLASSES = 10\n",
    "TEST_SIZE = 0.1\n",
    "RANDOM_STATE = 2018\n",
    "#Model\n",
    "NO_EPOCHS = 100\n",
    "BATCH_SIZE = 128\n",
    "\n",
    "IS_LOCAL = False\n",
    "\n",
    "import os\n",
    "\n",
    "if(IS_LOCAL):\n",
    "    PATH=\"../input/kuzushiji/\"\n",
    "else:\n",
    "    PATH=\"../input/\"\n",
    "print(os.listdir(PATH))"
   ]
  },
  {
   "cell_type": "code",
   "execution_count": 2,
   "metadata": {},
   "outputs": [
    {
     "ename": "NameError",
     "evalue": "name 'PATH' is not defined",
     "output_type": "error",
     "traceback": [
      "\u001b[1;31m---------------------------------------------------------------------------\u001b[0m",
      "\u001b[1;31mNameError\u001b[0m                                 Traceback (most recent call last)",
      "\u001b[1;32mc:\\Users\\vasus\\Desktop\\ANN\\Kuzushiji-MNIST Classification\\CNN with Batch Normalization.ipynb Cell 2'\u001b[0m in \u001b[0;36m<module>\u001b[1;34m\u001b[0m\n\u001b[1;32m----> <a href='vscode-notebook-cell:/c%3A/Users/vasus/Desktop/ANN/Kuzushiji-MNIST%20Classification/CNN%20with%20Batch%20Normalization.ipynb#ch0000001?line=0'>1</a>\u001b[0m x_train \u001b[39m=\u001b[39m np\u001b[39m.\u001b[39mload(PATH\u001b[39m+\u001b[39m\u001b[39m'\u001b[39m\u001b[39mkmnist-train-imgs.npz\u001b[39m\u001b[39m'\u001b[39m)[\u001b[39m'\u001b[39m\u001b[39marr_0\u001b[39m\u001b[39m'\u001b[39m]\n\u001b[0;32m      <a href='vscode-notebook-cell:/c%3A/Users/vasus/Desktop/ANN/Kuzushiji-MNIST%20Classification/CNN%20with%20Batch%20Normalization.ipynb#ch0000001?line=1'>2</a>\u001b[0m x_test \u001b[39m=\u001b[39m np\u001b[39m.\u001b[39mload(PATH\u001b[39m+\u001b[39m\u001b[39m'\u001b[39m\u001b[39mkmnist-test-imgs.npz\u001b[39m\u001b[39m'\u001b[39m)[\u001b[39m'\u001b[39m\u001b[39marr_0\u001b[39m\u001b[39m'\u001b[39m]\n\u001b[0;32m      <a href='vscode-notebook-cell:/c%3A/Users/vasus/Desktop/ANN/Kuzushiji-MNIST%20Classification/CNN%20with%20Batch%20Normalization.ipynb#ch0000001?line=2'>3</a>\u001b[0m y_train \u001b[39m=\u001b[39m np\u001b[39m.\u001b[39mload(PATH\u001b[39m+\u001b[39m\u001b[39m'\u001b[39m\u001b[39mkmnist-train-labels.npz\u001b[39m\u001b[39m'\u001b[39m)[\u001b[39m'\u001b[39m\u001b[39marr_0\u001b[39m\u001b[39m'\u001b[39m]\n",
      "\u001b[1;31mNameError\u001b[0m: name 'PATH' is not defined"
     ]
    }
   ],
   "source": [
    "x_train = np.load(PATH+'kmnist-train-imgs.npz')['arr_0']\n",
    "x_test = np.load(PATH+'kmnist-test-imgs.npz')['arr_0']\n",
    "y_train = np.load(PATH+'kmnist-train-labels.npz')['arr_0']\n",
    "y_test = np.load(PATH+'kmnist-test-labels.npz')['arr_0']"
   ]
  }
 ],
 "metadata": {
  "interpreter": {
   "hash": "1baa965d5efe3ac65b79dfc60c0d706280b1da80fedb7760faf2759126c4f253"
  },
  "kernelspec": {
   "display_name": "Python 3.8.0 64-bit",
   "language": "python",
   "name": "python3"
  },
  "language_info": {
   "codemirror_mode": {
    "name": "ipython",
    "version": 3
   },
   "file_extension": ".py",
   "mimetype": "text/x-python",
   "name": "python",
   "nbconvert_exporter": "python",
   "pygments_lexer": "ipython3",
   "version": "3.8.0"
  },
  "orig_nbformat": 4
 },
 "nbformat": 4,
 "nbformat_minor": 2
}
